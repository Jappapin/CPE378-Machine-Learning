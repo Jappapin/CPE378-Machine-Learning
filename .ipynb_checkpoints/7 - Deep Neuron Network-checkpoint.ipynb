{
 "cells": [
  {
   "cell_type": "markdown",
   "metadata": {
    "id": "OBHlrx516_0X"
   },
   "source": [
    "# Keras Tutorial \n",
    "- See https://keras.io\n"
   ]
  },
  {
   "cell_type": "code",
   "execution_count": null,
   "metadata": {
    "id": "clMoQWlI6_0a"
   },
   "outputs": [],
   "source": [
    "import keras\n",
    "keras.__version__"
   ]
  },
  {
   "cell_type": "markdown",
   "metadata": {
    "id": "SGoBDjCl6_0c"
   },
   "source": [
    "## 1. Dataset\n",
    "\n",
    "We will use a build-in data 'MNIST' which is a handwritten digit number image from 0 to 9"
   ]
  },
  {
   "cell_type": "code",
   "execution_count": null,
   "metadata": {
    "id": "xTb57PDq6_0c"
   },
   "outputs": [],
   "source": [
    "from keras.datasets import mnist\n",
    "\n",
    "(train_images, train_labels), (test_images, test_labels) = mnist.load_data()"
   ]
  },
  {
   "cell_type": "markdown",
   "metadata": {
    "id": "9rDb6aQo6_0d"
   },
   "source": [
    "### Type of dataset"
   ]
  },
  {
   "cell_type": "code",
   "execution_count": null,
   "metadata": {
    "id": "AjeSfOqS6_0d"
   },
   "outputs": [],
   "source": [
    "print('Feature type: %s'%type(train_images))\n",
    "print('Label type: %s'%type(train_labels))"
   ]
  },
  {
   "cell_type": "markdown",
   "metadata": {
    "id": "m6j2uCsu6_0e"
   },
   "source": [
    "### Type of value in the dataset"
   ]
  },
  {
   "cell_type": "code",
   "execution_count": null,
   "metadata": {
    "id": "21YQceSI6_0e"
   },
   "outputs": [],
   "source": [
    "print('Feature data type: %s'%train_images.dtype)\n",
    "print('Label data type: %s'%train_labels.dtype)"
   ]
  },
  {
   "cell_type": "markdown",
   "metadata": {
    "id": "g2GhZ-0-6_0e"
   },
   "source": [
    "### Shape"
   ]
  },
  {
   "cell_type": "code",
   "execution_count": null,
   "metadata": {
    "id": "i8KvemBj6_0f"
   },
   "outputs": [],
   "source": [
    "print('Train_set Feature shape: %s'%str(train_images.shape))\n",
    "print('Train_set Label type: %s'%str(train_labels.shape))\n",
    "print('Test_set Feature shape: %s'%str(test_images.shape))\n",
    "print('Test_set Label type: %s'%str(test_labels.shape))"
   ]
  },
  {
   "cell_type": "markdown",
   "metadata": {
    "id": "COAXhE3q6_0f"
   },
   "source": [
    "### Dimension"
   ]
  },
  {
   "cell_type": "code",
   "execution_count": null,
   "metadata": {
    "id": "CAIVilev6_0g"
   },
   "outputs": [],
   "source": [
    "print('Train_set Feature dimension: %s'%str(train_images.ndim))\n",
    "print('Train_set Label dimension: %s'%str(train_labels.ndim))\n",
    "print('Test_set Feature dimension: %s'%str(test_images.ndim))\n",
    "print('Test_set Label dimension: %s'%str(test_labels.ndim))"
   ]
  },
  {
   "cell_type": "markdown",
   "metadata": {
    "id": "pIfErUBl6_0g"
   },
   "source": [
    "### Characteristic of data "
   ]
  },
  {
   "cell_type": "code",
   "execution_count": null,
   "metadata": {
    "id": "WjEGnnm_6_0h"
   },
   "outputs": [],
   "source": [
    "# train_images[0]"
   ]
  },
  {
   "cell_type": "code",
   "execution_count": null,
   "metadata": {
    "id": "eN3MX0tf6_0h"
   },
   "outputs": [],
   "source": [
    "digit = train_images[0]\n",
    "\n",
    "import matplotlib.pyplot as plt\n",
    "%matplotlib inline\n",
    "\n",
    "plt.imshow(digit, cmap=plt.cm.binary)"
   ]
  },
  {
   "cell_type": "code",
   "execution_count": null,
   "metadata": {
    "id": "FRl5dkna6_0h"
   },
   "outputs": [],
   "source": [
    "train_labels[0]"
   ]
  },
  {
   "cell_type": "markdown",
   "metadata": {
    "id": "DeuyFx-m6_0i"
   },
   "source": [
    "## 2. Create a fully-connect neural network model"
   ]
  },
  {
   "cell_type": "code",
   "execution_count": null,
   "metadata": {
    "id": "PZbvyfTe6_0i"
   },
   "outputs": [],
   "source": [
    "from keras import models\n",
    "from keras import layers"
   ]
  },
  {
   "cell_type": "code",
   "execution_count": null,
   "metadata": {
    "id": "nHSJOVBu6_0i"
   },
   "outputs": [],
   "source": [
    "network = models.Sequential()\n",
    "network.add(layers.Dense(512, activation='relu',input_shape=(28*28,)))\n",
    "network.add(layers.Dense(10, activation='softmax'))"
   ]
  },
  {
   "cell_type": "code",
   "execution_count": null,
   "metadata": {
    "id": "XHgoVDhi6_0j"
   },
   "outputs": [],
   "source": [
    "network.compile(optimizer='rmsprop',\n",
    "               loss='categorical_crossentropy',\n",
    "               metrics=['accuracy'])"
   ]
  },
  {
   "cell_type": "code",
   "execution_count": null,
   "metadata": {
    "id": "dzMqjHQT6_0j"
   },
   "outputs": [],
   "source": [
    "network.summary()"
   ]
  },
  {
   "cell_type": "markdown",
   "metadata": {
    "id": "2ReWDd9h6_0j"
   },
   "source": [
    "## 3. Preprocessing Data"
   ]
  },
  {
   "cell_type": "code",
   "execution_count": null,
   "metadata": {
    "id": "crK75mgw6_0k"
   },
   "outputs": [],
   "source": [
    "train_images = train_images.reshape(60000,28*28) # Reshape\n",
    "train_images = train_images.astype('float32')/255 # Normalize\n",
    "\n",
    "test_images = test_images.reshape(10000,28*28) # Reshape\n",
    "test_images = test_images.astype('float32')/255 # Normalize"
   ]
  },
  {
   "cell_type": "code",
   "execution_count": null,
   "metadata": {
    "id": "mMRjx1-86_0k"
   },
   "outputs": [],
   "source": [
    "from tensorflow.keras.utils import to_categorical"
   ]
  },
  {
   "cell_type": "code",
   "execution_count": null,
   "metadata": {
    "id": "IxLxwZkP6_0k"
   },
   "outputs": [],
   "source": [
    "train_labels = to_categorical(train_labels)\n",
    "test_labels = to_categorical(test_labels)"
   ]
  },
  {
   "cell_type": "code",
   "execution_count": null,
   "metadata": {
    "id": "U2Ol3g7p6_0l"
   },
   "outputs": [],
   "source": [
    "test_labels"
   ]
  },
  {
   "cell_type": "code",
   "execution_count": null,
   "metadata": {
    "id": "WlHnHmmw6_0l"
   },
   "outputs": [],
   "source": [
    "test_labels.shape"
   ]
  },
  {
   "cell_type": "markdown",
   "metadata": {
    "id": "MeNjTfLq6_0l"
   },
   "source": [
    "## 4. Train Model"
   ]
  },
  {
   "cell_type": "code",
   "execution_count": null,
   "metadata": {
    "id": "vvQEdghT6_0l"
   },
   "outputs": [],
   "source": [
    "history = network.fit(train_images,train_labels,epochs=5,batch_size=128)"
   ]
  },
  {
   "cell_type": "markdown",
   "metadata": {
    "id": "o11lcNex6_0m"
   },
   "source": [
    "## 5. Evaluate Model"
   ]
  },
  {
   "cell_type": "code",
   "execution_count": null,
   "metadata": {
    "id": "JvPB7T_P6_0m"
   },
   "outputs": [],
   "source": [
    "test_loss, test_acc = network.evaluate(test_images, test_labels)\n",
    "print('Test Loss: %s\\nTest Accuracy: %s' % (test_loss,test_acc))"
   ]
  },
  {
   "cell_type": "code",
   "execution_count": null,
   "metadata": {
    "id": "OHwwhCZH6_0m"
   },
   "outputs": [],
   "source": [
    "history.history"
   ]
  },
  {
   "cell_type": "code",
   "execution_count": null,
   "metadata": {
    "id": "26kGxA_46_0n"
   },
   "outputs": [],
   "source": []
  },
  {
   "cell_type": "code",
   "execution_count": null,
   "metadata": {
    "id": "Mo_Jk3Oq6_0n"
   },
   "outputs": [],
   "source": []
  },
  {
   "cell_type": "code",
   "execution_count": null,
   "metadata": {
    "id": "P8H5WSkt6_0n"
   },
   "outputs": [],
   "source": []
  }
 ],
 "metadata": {
  "colab": {
   "name": "(Lab) Deep Neuron Network (1).ipynb",
   "provenance": []
  },
  "kernelspec": {
   "display_name": "Python 3 (ipykernel)",
   "language": "python",
   "name": "python3"
  },
  "language_info": {
   "codemirror_mode": {
    "name": "ipython",
    "version": 3
   },
   "file_extension": ".py",
   "mimetype": "text/x-python",
   "name": "python",
   "nbconvert_exporter": "python",
   "pygments_lexer": "ipython3",
   "version": "3.8.0"
  }
 },
 "nbformat": 4,
 "nbformat_minor": 1
}
